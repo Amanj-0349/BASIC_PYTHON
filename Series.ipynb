{
 "cells": [
  {
   "cell_type": "markdown",
   "id": "3ac1f7da",
   "metadata": {},
   "source": [
    "### Series - one dimensional array (array is a special list which only contains homogenous type of data) which can contain any type of data like int , float , string , list and every data value is stored at specific index"
   ]
  },
  {
   "cell_type": "markdown",
   "id": "e68dbca4",
   "metadata": {},
   "source": [
    "### CREATION OF SERIES "
   ]
  },
  {
   "cell_type": "raw",
   "id": "b655c361",
   "metadata": {},
   "source": [
    "for the creation of series or dataframe u have to import a library of python called pandas "
   ]
  },
  {
   "cell_type": "code",
   "execution_count": 4,
   "id": "afe5c42b",
   "metadata": {},
   "outputs": [
    {
     "name": "stdout",
     "output_type": "stream",
     "text": [
      "0    10\n",
      "1    20\n",
      "2    30\n",
      "dtype: int64\n",
      "0    10\n",
      "1    20\n",
      "2    30\n",
      "dtype: int64\n"
     ]
    }
   ],
   "source": [
    "# 1. from list \n",
    "\n",
    "import pandas as pd \n",
    "import numpy as np \n",
    "\n",
    "# there is a method in pandas library named as Series() by which we can create series \n",
    "\n",
    "# Series(datavalues,index,dtype)\n",
    "\n",
    "series1 = pd.Series([10,20,30]) # direct passing the values\n",
    "print(series1)\n",
    "\n",
    "val=[10,20,30]\n",
    "series2 = pd.Series(val)\n",
    "print(series2)"
   ]
  },
  {
   "cell_type": "code",
   "execution_count": 19,
   "id": "81e6c01b",
   "metadata": {},
   "outputs": [
    {
     "name": "stdout",
     "output_type": "stream",
     "text": [
      "100    10\n",
      "200    20\n",
      "300    30\n",
      "dtype: int64\n",
      "A    10\n",
      "B    20\n",
      "C    30\n",
      "dtype: int64\n",
      "0    200\n",
      "1    200\n",
      "2    200\n",
      "3    200\n",
      "4    200\n",
      "dtype: int64\n",
      "A    10.0\n",
      "B    20.0\n",
      "C    30.0\n",
      "dtype: float32\n"
     ]
    }
   ],
   "source": [
    "# using index parameter \n",
    "\n",
    "val = [10,20,30]\n",
    "idx = [100,200,300]\n",
    "\n",
    "Series3 = pd.Series(val,index=idx)\n",
    "print(Series3)\n",
    "\n",
    "\n",
    "series4 = pd.Series([10,20,30], index = ['A','B','C'])\n",
    "series5 = pd.Series(200, index=range(5))\n",
    "\n",
    "print(series4)\n",
    "print(series5)\n",
    "\n",
    "# we can aslo change the datatype \n",
    "''' by default datatype int64'''\n",
    "\n",
    "\n",
    "series6 = pd.Series([10,20,30], index = ['A','B','C'],dtype=np.float32)\n",
    "print(series6)\n",
    "\n"
   ]
  },
  {
   "cell_type": "code",
   "execution_count": 16,
   "id": "3a354003",
   "metadata": {},
   "outputs": [
    {
     "name": "stdout",
     "output_type": "stream",
     "text": [
      "0    10\n",
      "1    20\n",
      "2    30\n",
      "dtype: int32\n",
      "100    10\n",
      "200    20\n",
      "300    30\n",
      "dtype: int32\n"
     ]
    }
   ],
   "source": [
    "# 2. from numpy array \n",
    "\n",
    "import numpy as np \n",
    "\n",
    "val=np.array([10,20,30])\n",
    "series1 = pd.Series(val)\n",
    "print(series1)\n",
    "\n",
    "ser2=pd.Series(val,index=[100,200,300])\n",
    "print(ser2)"
   ]
  },
  {
   "cell_type": "code",
   "execution_count": 20,
   "id": "e75b56c2",
   "metadata": {},
   "outputs": [
    {
     "name": "stdout",
     "output_type": "stream",
     "text": [
      "ip     50\n",
      "eco    78\n",
      "bst    65\n",
      "dtype: int64\n"
     ]
    }
   ],
   "source": [
    "# 3. from dictionary \n",
    "\n",
    "import pandas as pd \n",
    "import numpy as np \n",
    "\n",
    "val = {'ip':50,'eco':78,'bst':65}\n",
    "series1=pd.Series(val)\n",
    "print(series1)"
   ]
  },
  {
   "cell_type": "markdown",
   "id": "59cc76ed",
   "metadata": {},
   "source": [
    "# INDEXING "
   ]
  },
  {
   "cell_type": "code",
   "execution_count": 26,
   "id": "c331af53",
   "metadata": {},
   "outputs": [
    {
     "name": "stdout",
     "output_type": "stream",
     "text": [
      "ip     50\n",
      "eco    78\n",
      "bst    65\n",
      "dtype: int64\n",
      "78\n"
     ]
    }
   ],
   "source": [
    "'''note - indexing by default starts from 0 to infi (left to right)\n",
    "but in case of negative indexing it starts from -1 to infi (right to left)'''\n",
    "\n",
    "# indexing on dictionary is quite diffrent from list\n",
    "\n",
    "val = {'ip':50,'eco':78,'bst':65}\n",
    "series1=pd.Series(val)\n",
    "print(series1)\n",
    "\n",
    "eco_no = series1['eco']\n",
    "print(eco_no)"
   ]
  },
  {
   "cell_type": "code",
   "execution_count": 40,
   "id": "1886a342",
   "metadata": {},
   "outputs": [
    {
     "name": "stdout",
     "output_type": "stream",
     "text": [
      "a    10\n",
      "b    20\n",
      "c    30\n",
      "dtype: int64\n",
      "10\n",
      "20\n"
     ]
    }
   ],
   "source": [
    "val = [10,20,30]\n",
    "idx = ['a','b','c']\n",
    "\n",
    "series3 = pd.Series(val,index=idx)\n",
    "print(Series3)\n",
    "\n",
    "a=series3['a']\n",
    "print(a)\n",
    "\n",
    "b=series3[1]\n",
    "print(b)"
   ]
  },
  {
   "cell_type": "code",
   "execution_count": 46,
   "id": "124848bf",
   "metadata": {},
   "outputs": [
    {
     "name": "stdout",
     "output_type": "stream",
     "text": [
      "a    10\n",
      "b    20\n",
      "c    30\n",
      "dtype: int64\n",
      "100    10\n",
      "200    20\n",
      "300    30\n",
      "dtype: int64\n"
     ]
    }
   ],
   "source": [
    "# cahnging the index of the series\n",
    "val = [10,20,30]\n",
    "idx = ['a','b','c']\n",
    "\n",
    "series3 = pd.Series(val,index=idx)\n",
    "print(series3)\n",
    "series3.index=[100,200,300]\n",
    "print(series3)"
   ]
  },
  {
   "cell_type": "code",
   "execution_count": null,
   "id": "1ff37c9b",
   "metadata": {},
   "outputs": [],
   "source": []
  }
 ],
 "metadata": {
  "kernelspec": {
   "display_name": "Python 3 (ipykernel)",
   "language": "python",
   "name": "python3"
  },
  "language_info": {
   "codemirror_mode": {
    "name": "ipython",
    "version": 3
   },
   "file_extension": ".py",
   "mimetype": "text/x-python",
   "name": "python",
   "nbconvert_exporter": "python",
   "pygments_lexer": "ipython3",
   "version": "3.11.5"
  }
 },
 "nbformat": 4,
 "nbformat_minor": 5
}
